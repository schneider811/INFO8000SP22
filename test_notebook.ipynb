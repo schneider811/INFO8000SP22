{
 "cells": [
  {
   "cell_type": "code",
   "execution_count": 4,
   "metadata": {},
   "outputs": [
    {
     "name": "stdout",
     "output_type": "stream",
     "text": [
      "Hello World\n",
      "[2, 3]\n"
     ]
    },
    {
     "data": {
      "text/plain": [
       "[1, 2, 3]"
      ]
     },
     "execution_count": 4,
     "metadata": {},
     "output_type": "execute_result"
    }
   ],
   "source": [
    "print(\"Hello World\")\n",
    "a_list = [1,2,3]\n",
    "print(a_list[1:])\n",
    "a_list\n",
    "#print(another_list)"
   ]
  },
  {
   "cell_type": "code",
   "execution_count": 5,
   "metadata": {},
   "outputs": [
    {
     "name": "stdout",
     "output_type": "stream",
     "text": [
      "   id first_name last_name  height_in\n",
      "0   1       kyle   johnsen         75\n",
      "1   2      brook    bowers         67\n",
      "2   3     andrew   rukangu         67\n",
      "3   4     mister    com,ma         60\n"
     ]
    }
   ],
   "source": [
    "import pandas as pd\n",
    "df = pd.read_csv(\"data/heights.csv\")\n",
    "print(df)\n",
    "anoter_list = [3,21]"
   ]
  },
  {
   "cell_type": "code",
   "execution_count": 6,
   "metadata": {},
   "outputs": [
    {
     "name": "stdout",
     "output_type": "stream",
     "text": [
      "   id first_name last_name  height_in\n",
      "0   1       kyle   johnsen         75\n",
      "id             int64\n",
      "first_name    object\n",
      "last_name     object\n",
      "height_in      int64\n",
      "dtype: object\n"
     ]
    }
   ],
   "source": [
    "df = pd.read_csv(\"data/heights.csv\")\n",
    "print(df.head(1))\n",
    "print(df.dtypes)"
   ]
  }
 ],
 "metadata": {
  "interpreter": {
   "hash": "169c6478b6524915d60337e7b0e85afeb9862cf3229a725b27f0f62c5daf40f2"
  },
  "kernelspec": {
   "display_name": "Python 3.9.5 ('base')",
   "language": "python",
   "name": "python3"
  },
  "language_info": {
   "codemirror_mode": {
    "name": "ipython",
    "version": 3
   },
   "file_extension": ".py",
   "mimetype": "text/x-python",
   "name": "python",
   "nbconvert_exporter": "python",
   "pygments_lexer": "ipython3",
   "version": "3.9.7"
  },
  "orig_nbformat": 4
 },
 "nbformat": 4,
 "nbformat_minor": 2
}
